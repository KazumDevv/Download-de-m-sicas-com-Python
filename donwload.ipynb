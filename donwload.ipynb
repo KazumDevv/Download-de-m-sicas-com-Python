{
 "cells": [
  {
   "cell_type": "markdown",
   "metadata": {},
   "source": [
    "donwload das bibliotecas abaixo"
   ]
  },
  {
   "cell_type": "code",
   "execution_count": 24,
   "metadata": {},
   "outputs": [],
   "source": [
    "from pytube import YouTube, Search\n",
    "from pytubefix import YouTube as yt\n",
    "from pytubefix.cli import on_progress\n",
    "\n",
    "from selenium import webdriver\n",
    "from selenium.webdriver.common.by import By\n",
    "from selenium.webdriver.common.keys import Keys\n",
    "from selenium.webdriver.support.ui import WebDriverWait \n",
    "from selenium.webdriver.support import expected_conditions as EC\n",
    "\n",
    "import pyautogui\n",
    "\n",
    "import pyperclip\n",
    "\n",
    "from time import sleep\n"
   ]
  },
  {
   "cell_type": "markdown",
   "metadata": {},
   "source": [
    "funcoes que podem ser usadas quando necessario"
   ]
  },
  {
   "cell_type": "code",
   "execution_count": 25,
   "metadata": {},
   "outputs": [],
   "source": [
    "def localizar_e_clicar_imagem(nome_arquivo_imagem):\n",
    "    while(True):\n",
    "        try:\n",
    "            # Localiza a posição da imagem na tela\n",
    "            posicao = pyautogui.locateCenterOnScreen(nome_arquivo_imagem, confidence=0.8)\n",
    "            pyautogui.doubleClick(posicao.x,posicao.y)\n",
    "            print(f\"Imagem {nome_arquivo_imagem} encontrada e clicada!\")\n",
    "            break\n",
    "        except pyautogui.ImageNotFoundException:\n",
    "            print(f\"Imagem {nome_arquivo_imagem} não encontrada.\\r\", end= '')\n",
    "            \n",
    "            \n",
    "            \n",
    "def pegamusicas(texto:str):\n",
    "    texto.replace('\\n', '')\n",
    "    texto = texto.strip()\n",
    "    indiceinicio = texto.find(\"[\")\n",
    "    texto = texto[indiceinicio+1:]\n",
    "    indicefim = texto.find(\"]\")\n",
    "    texto = texto[:indicefim]\n",
    "    texto = texto.strip()\n",
    "    texto =texto.replace('\"', '')\n",
    "    texto = [item.strip() for item in texto.split(\",\")]\n",
    "\n",
    "    "
   ]
  },
  {
   "cell_type": "markdown",
   "metadata": {},
   "source": [
    "reseta a lista de musicas para baixar (pode ser executada sempre, porem ira perder as que nao foram baixadas ainda)"
   ]
  },
  {
   "cell_type": "code",
   "execution_count": 26,
   "metadata": {},
   "outputs": [],
   "source": [
    "musicas = list()"
   ]
  },
  {
   "cell_type": "markdown",
   "metadata": {},
   "source": [
    "reseta as musicas baixadas (Não executar sempre)"
   ]
  },
  {
   "cell_type": "code",
   "execution_count": 27,
   "metadata": {},
   "outputs": [],
   "source": [
    "Baixadas = list()"
   ]
  },
  {
   "cell_type": "code",
   "execution_count": 28,
   "metadata": {},
   "outputs": [],
   "source": [
    "intro = 'defina uma lista em python (nao printe ou comentar, apenas defina) com o maximo de nomes das musicas de '\n",
    "banda =  'skillet'\n",
    "mensagem = intro + banda"
   ]
  },
  {
   "cell_type": "markdown",
   "metadata": {},
   "source": [
    "faz uma pesquisa automatizada no copilot em busca das musicas de uma banda espcificada anteriormente"
   ]
  },
  {
   "cell_type": "code",
   "execution_count": 29,
   "metadata": {},
   "outputs": [
    {
     "name": "stdout",
     "output_type": "stream",
     "text": [
      "passo 1\n",
      "passo 2\n",
      "passo 3\n",
      "Imagem copiar.png encontrada e clicada!\n",
      "Imagem copiar.png encontrada e clicada!\n",
      "texto fromatado\n"
     ]
    }
   ],
   "source": [
    "#cria o navegador e acessa o site\n",
    "navegador = webdriver.Chrome()\n",
    "navegador.get(\"https://copilot.microsoft.com/?showconv=1\")\n",
    "sleep(1)\n",
    "wait = WebDriverWait(navegador, 2)\n",
    "navegador.refresh()\n",
    "sleep(2)\n",
    "\n",
    "passo = 0\n",
    "tent = 0\n",
    "while(tent != 5):\n",
    "    try:\n",
    "        sleep(0.5)\n",
    "        wait = WebDriverWait(navegador, 1)\n",
    "        copilot = wait.until( EC.presence_of_element_located((By.ID, \"userInput\")))\n",
    "        passo +=1\n",
    "        print('passo', passo)\n",
    "        break\n",
    "    except:\n",
    "        tent +=1\n",
    "        \n",
    "        \n",
    "tent1 = 0\n",
    "while(tent1 != 5):\n",
    "    try:\n",
    "        sleep(0.5)\n",
    "        copilot.send_keys(mensagem)\n",
    "        passo +=1\n",
    "        print('passo', passo)\n",
    "        break\n",
    "    except:\n",
    "        tent1 +=1\n",
    "        \n",
    "        \n",
    "tent1 = 0\n",
    "while(tent1 != 5):\n",
    "    try:\n",
    "        sleep(0.5)\n",
    "        copilot.send_keys(Keys.ENTER)\n",
    "        passo +=1\n",
    "        print('passo', passo)\n",
    "        break\n",
    "    except:\n",
    "        tent1 +=1        \n",
    "\n",
    "\n",
    "sleep(5)\n",
    "botao = localizar_e_clicar_imagem('copiar.png')\n",
    "sleep(2)\n",
    "botao = localizar_e_clicar_imagem('copiar.png')\n",
    "navegador.minimize_window()\n",
    "\n",
    "texto = pyperclip.paste()\n",
    "texto.replace('\\n', '')\n",
    "texto = texto.strip()\n",
    "indiceinicio = texto.find(\"[\")\n",
    "texto = texto[indiceinicio+1:]\n",
    "indicefim = texto.find(\"]\")\n",
    "texto = texto[:indicefim]\n",
    "texto = texto.strip()\n",
    "texto = texto.replace('\"', '')\n",
    "texto = [item.strip() for item in texto.split(\",\")]\n",
    "print(\"texto fromatado\")\n",
    "musicas += texto\n",
    "\n",
    "    "
   ]
  },
  {
   "cell_type": "markdown",
   "metadata": {},
   "source": [
    "procura no youtube pelo video da musica desejada, pega o link e faz o download do audio do video"
   ]
  },
  {
   "cell_type": "code",
   "execution_count": null,
   "metadata": {},
   "outputs": [
    {
     "name": "stderr",
     "output_type": "stream",
     "text": [
      "Unexpected renderer encountered.\n",
      "Renderer name: dict_keys(['showingResultsForRenderer'])\n",
      "Search term: Whispers in the Darkskillet lyric\n",
      "Please open an issue at https://github.com/pytube/pytube/issues and provide this log output.\n",
      "Unexpected renderer encountered.\n",
      "Renderer name: dict_keys(['reelShelfRenderer'])\n",
      "Search term: Whispers in the Darkskillet lyric\n",
      "Please open an issue at https://github.com/pytube/pytube/issues and provide this log output.\n"
     ]
    },
    {
     "name": "stdout",
     "output_type": "stream",
     "text": [
      "link:  https://youtube.com/watch?v=omuYo49_SOQ\n",
      "achou o video\n",
      "Skillet - whispers in the dark with lyrics\n"
     ]
    },
    {
     "name": "stderr",
     "output_type": "stream",
     "text": [
      "Unexpected renderer encountered.\n",
      "Renderer name: dict_keys(['showingResultsForRenderer'])\n",
      "Search term: Comatoseskillet lyric\n",
      "Please open an issue at https://github.com/pytube/pytube/issues and provide this log output.\n",
      "Unexpected renderer encountered.\n",
      "Renderer name: dict_keys(['reelShelfRenderer'])\n",
      "Search term: Comatoseskillet lyric\n",
      "Please open an issue at https://github.com/pytube/pytube/issues and provide this log output.\n",
      "Unexpected renderer encountered.\n",
      "Renderer name: dict_keys(['reelShelfRenderer'])\n",
      "Search term: Comatoseskillet lyric\n",
      "Please open an issue at https://github.com/pytube/pytube/issues and provide this log output.\n"
     ]
    },
    {
     "name": "stdout",
     "output_type": "stream",
     "text": [
      "link:  https://youtube.com/watch?v=JZNCrLV8W_M\n",
      "achou o video\n",
      "Skillet - Comatose (Lyrics)\n",
      " ↳ |████████████████████████████████████████████| 100.0%\r"
     ]
    },
    {
     "name": "stderr",
     "output_type": "stream",
     "text": [
      "Unexpected renderer encountered.\n",
      "Renderer name: dict_keys(['showingResultsForRenderer'])\n",
      "Search term: Heroskillet lyric\n",
      "Please open an issue at https://github.com/pytube/pytube/issues and provide this log output.\n",
      "Unexpected renderer encountered.\n",
      "Renderer name: dict_keys(['reelShelfRenderer'])\n",
      "Search term: Heroskillet lyric\n",
      "Please open an issue at https://github.com/pytube/pytube/issues and provide this log output.\n"
     ]
    },
    {
     "name": "stdout",
     "output_type": "stream",
     "text": [
      "link:  https://youtube.com/watch?v=7yeksMKVOno\n",
      "achou o video\n",
      "Skillet-Hero (Lyrics Video)\n",
      " ↳ |████████████████████████████████████████████| 100.0%\r"
     ]
    },
    {
     "name": "stderr",
     "output_type": "stream",
     "text": [
      "Unexpected renderer encountered.\n",
      "Renderer name: dict_keys(['showingResultsForRenderer'])\n",
      "Search term: Monsterskillet lyric\n",
      "Please open an issue at https://github.com/pytube/pytube/issues and provide this log output.\n",
      "Unexpected renderer encountered.\n",
      "Renderer name: dict_keys(['lockupViewModel'])\n",
      "Search term: Monsterskillet lyric\n",
      "Please open an issue at https://github.com/pytube/pytube/issues and provide this log output.\n",
      "Unexpected renderer encountered.\n",
      "Renderer name: dict_keys(['reelShelfRenderer'])\n",
      "Search term: Monsterskillet lyric\n",
      "Please open an issue at https://github.com/pytube/pytube/issues and provide this log output.\n"
     ]
    },
    {
     "name": "stdout",
     "output_type": "stream",
     "text": [
      "link:  https://youtube.com/watch?v=MUdIKF4V4m8\n",
      "achou o video\n",
      "Skillet-Monster (Lyrics Video)\n"
     ]
    },
    {
     "name": "stderr",
     "output_type": "stream",
     "text": [
      "Unexpected renderer encountered.\n",
      "Renderer name: dict_keys(['showingResultsForRenderer'])\n",
      "Search term: Awake and Aliveskillet lyric\n",
      "Please open an issue at https://github.com/pytube/pytube/issues and provide this log output.\n",
      "Unexpected renderer encountered.\n",
      "Renderer name: dict_keys(['reelShelfRenderer'])\n",
      "Search term: Awake and Aliveskillet lyric\n",
      "Please open an issue at https://github.com/pytube/pytube/issues and provide this log output.\n"
     ]
    },
    {
     "name": "stdout",
     "output_type": "stream",
     "text": [
      "link:  https://youtube.com/watch?v=9aRlxHtB0pg\n",
      "achou o video\n",
      "Skillet- Awake And Alive Lyrics (HD)\n"
     ]
    },
    {
     "name": "stderr",
     "output_type": "stream",
     "text": [
      "Unexpected renderer encountered.\n",
      "Renderer name: dict_keys(['showingResultsForRenderer'])\n",
      "Search term: Feel Invincibleskillet lyric\n",
      "Please open an issue at https://github.com/pytube/pytube/issues and provide this log output.\n",
      "Unexpected renderer encountered.\n",
      "Renderer name: dict_keys(['reelShelfRenderer'])\n",
      "Search term: Feel Invincibleskillet lyric\n",
      "Please open an issue at https://github.com/pytube/pytube/issues and provide this log output.\n"
     ]
    },
    {
     "name": "stdout",
     "output_type": "stream",
     "text": [
      "link:  https://youtube.com/watch?v=J4JisubEvSI\n",
      "achou o video\n",
      "Skillet- Feel Invincible (Lyrics Video)\n",
      " ↳ |████████████████████████████████████████████| 100.0%\r"
     ]
    },
    {
     "name": "stderr",
     "output_type": "stream",
     "text": [
      "Unexpected renderer encountered.\n",
      "Renderer name: dict_keys(['showingResultsForRenderer'])\n",
      "Search term: Riseskillet lyric\n",
      "Please open an issue at https://github.com/pytube/pytube/issues and provide this log output.\n",
      "Unexpected renderer encountered.\n",
      "Renderer name: dict_keys(['reelShelfRenderer'])\n",
      "Search term: Riseskillet lyric\n",
      "Please open an issue at https://github.com/pytube/pytube/issues and provide this log output.\n"
     ]
    },
    {
     "name": "stdout",
     "output_type": "stream",
     "text": [
      "link:  https://youtube.com/watch?v=wRNA9JNriik\n",
      "achou o video\n",
      "Skillet - Rise | Lyrics on screen | HD\n",
      " ↳ |████████████████████████████████████████████| 100.0%\r"
     ]
    },
    {
     "name": "stderr",
     "output_type": "stream",
     "text": [
      "Unexpected renderer encountered.\n",
      "Renderer name: dict_keys(['showingResultsForRenderer'])\n",
      "Search term: Not Gonna Dieskillet lyric\n",
      "Please open an issue at https://github.com/pytube/pytube/issues and provide this log output.\n",
      "Unexpected renderer encountered.\n",
      "Renderer name: dict_keys(['reelShelfRenderer'])\n",
      "Search term: Not Gonna Dieskillet lyric\n",
      "Please open an issue at https://github.com/pytube/pytube/issues and provide this log output.\n"
     ]
    },
    {
     "name": "stdout",
     "output_type": "stream",
     "text": [
      "link:  https://youtube.com/watch?v=BDHgAlQgKrs\n",
      "achou o video\n",
      "Not Gonna Die (+ Intro)- Skillet (lyrics)\n",
      " ↳ |████████████████████████████████████████████| 100.0%\r"
     ]
    },
    {
     "name": "stderr",
     "output_type": "stream",
     "text": [
      "Unexpected renderer encountered.\n",
      "Renderer name: dict_keys(['showingResultsForRenderer'])\n",
      "Search term: Back From the Deadskillet lyric\n",
      "Please open an issue at https://github.com/pytube/pytube/issues and provide this log output.\n",
      "Unexpected renderer encountered.\n",
      "Renderer name: dict_keys(['reelShelfRenderer'])\n",
      "Search term: Back From the Deadskillet lyric\n",
      "Please open an issue at https://github.com/pytube/pytube/issues and provide this log output.\n",
      "Unexpected renderer encountered.\n",
      "Renderer name: dict_keys(['reelShelfRenderer'])\n",
      "Search term: Back From the Deadskillet lyric\n",
      "Please open an issue at https://github.com/pytube/pytube/issues and provide this log output.\n"
     ]
    },
    {
     "name": "stdout",
     "output_type": "stream",
     "text": [
      "link:  https://youtube.com/watch?v=uxwU_NhKck4\n",
      "achou o video\n",
      "Skillet - Back From The Dead (Lyrics HD)\n"
     ]
    },
    {
     "name": "stderr",
     "output_type": "stream",
     "text": [
      "Unexpected renderer encountered.\n",
      "Renderer name: dict_keys(['showingResultsForRenderer'])\n",
      "Search term: Legendaryskillet lyric\n",
      "Please open an issue at https://github.com/pytube/pytube/issues and provide this log output.\n",
      "Unexpected renderer encountered.\n",
      "Renderer name: dict_keys(['reelShelfRenderer'])\n",
      "Search term: Legendaryskillet lyric\n",
      "Please open an issue at https://github.com/pytube/pytube/issues and provide this log output.\n",
      "Unexpected renderer encountered.\n",
      "Renderer name: dict_keys(['reelShelfRenderer'])\n",
      "Search term: Legendaryskillet lyric\n",
      "Please open an issue at https://github.com/pytube/pytube/issues and provide this log output.\n"
     ]
    },
    {
     "name": "stdout",
     "output_type": "stream",
     "text": [
      "link:  https://youtube.com/watch?v=k4eQeMK4hHQ\n",
      "achou o video\n",
      "Skillet: Legendary (Lyrics)\n",
      " ↳ |████████████████████████████████████████████| 100.0%\r"
     ]
    },
    {
     "name": "stderr",
     "output_type": "stream",
     "text": [
      "Unexpected renderer encountered.\n",
      "Renderer name: dict_keys(['showingResultsForRenderer'])\n",
      "Search term: Victoriousskillet lyric\n",
      "Please open an issue at https://github.com/pytube/pytube/issues and provide this log output.\n",
      "Unexpected renderer encountered.\n",
      "Renderer name: dict_keys(['reelShelfRenderer'])\n",
      "Search term: Victoriousskillet lyric\n",
      "Please open an issue at https://github.com/pytube/pytube/issues and provide this log output.\n",
      "Unexpected renderer encountered.\n",
      "Renderer name: dict_keys(['reelShelfRenderer'])\n",
      "Search term: Victoriousskillet lyric\n",
      "Please open an issue at https://github.com/pytube/pytube/issues and provide this log output.\n"
     ]
    },
    {
     "name": "stdout",
     "output_type": "stream",
     "text": [
      "link:  https://youtube.com/watch?v=SDWYlXuU6-E\n",
      "achou o video\n",
      "Skillet - Victorious (Lyrics)\n",
      " ↳ |████████████████████████████████████████████| 100.0%\r"
     ]
    },
    {
     "name": "stderr",
     "output_type": "stream",
     "text": [
      "Unexpected renderer encountered.\n",
      "Renderer name: dict_keys(['showingResultsForRenderer'])\n",
      "Search term: Starsskillet lyric\n",
      "Please open an issue at https://github.com/pytube/pytube/issues and provide this log output.\n",
      "Unexpected renderer encountered.\n",
      "Renderer name: dict_keys(['reelShelfRenderer'])\n",
      "Search term: Starsskillet lyric\n",
      "Please open an issue at https://github.com/pytube/pytube/issues and provide this log output.\n"
     ]
    },
    {
     "name": "stdout",
     "output_type": "stream",
     "text": [
      "link:  https://youtube.com/watch?v=GlcW_MdDnhU\n",
      "achou o video\n",
      "Skillet - Stars (Lyrics HD)\n",
      " ↳ |████████████████████████████████████████████| 100.0%\r"
     ]
    },
    {
     "name": "stderr",
     "output_type": "stream",
     "text": [
      "Unexpected renderer encountered.\n",
      "Renderer name: dict_keys(['showingResultsForRenderer'])\n",
      "Search term: Save Meskillet lyric\n",
      "Please open an issue at https://github.com/pytube/pytube/issues and provide this log output.\n",
      "Unexpected renderer encountered.\n",
      "Renderer name: dict_keys(['reelShelfRenderer'])\n",
      "Search term: Save Meskillet lyric\n",
      "Please open an issue at https://github.com/pytube/pytube/issues and provide this log output.\n"
     ]
    },
    {
     "name": "stdout",
     "output_type": "stream",
     "text": [
      "link:  https://youtube.com/watch?v=pcpB7cFWGxQ\n",
      "achou o video\n",
      "Skillet - Save Me (Lyric Video)\n",
      " ↳ |████████████████████████████████████████████| 100.0%\r"
     ]
    },
    {
     "name": "stderr",
     "output_type": "stream",
     "text": [
      "Unexpected renderer encountered.\n",
      "Renderer name: dict_keys(['showingResultsForRenderer'])\n",
      "Search term: You Ain't Readyskillet lyric\n",
      "Please open an issue at https://github.com/pytube/pytube/issues and provide this log output.\n",
      "Unexpected renderer encountered.\n",
      "Renderer name: dict_keys(['reelShelfRenderer'])\n",
      "Search term: You Ain't Readyskillet lyric\n",
      "Please open an issue at https://github.com/pytube/pytube/issues and provide this log output.\n",
      "Unexpected renderer encountered.\n",
      "Renderer name: dict_keys(['reelShelfRenderer'])\n",
      "Search term: You Ain't Readyskillet lyric\n",
      "Please open an issue at https://github.com/pytube/pytube/issues and provide this log output.\n"
     ]
    },
    {
     "name": "stdout",
     "output_type": "stream",
     "text": [
      "link:  https://youtube.com/watch?v=1obJEVDUeM0\n",
      "achou o video\n",
      "Skillet - You Ain't Ready (Lyric Video)\n",
      " ↳ |████████████████████████████████████████████| 100.0%\r"
     ]
    },
    {
     "name": "stderr",
     "output_type": "stream",
     "text": [
      "Unexpected renderer encountered.\n",
      "Renderer name: dict_keys(['reelShelfRenderer'])\n",
      "Search term: Dead Man Walkingskillet lyric\n",
      "Please open an issue at https://github.com/pytube/pytube/issues and provide this log output.\n"
     ]
    },
    {
     "name": "stdout",
     "output_type": "stream",
     "text": [
      "link:  https://youtube.com/watch?v=gXo5-Q6xOtk\n",
      "achou o video\n",
      "Skillet - Dead Man Walking (Official Lyric Video)\n",
      " ↳ |████████████████████████████████████████████| 100.0%\r"
     ]
    },
    {
     "name": "stderr",
     "output_type": "stream",
     "text": [
      "Unexpected renderer encountered.\n",
      "Renderer name: dict_keys(['showingResultsForRenderer'])\n",
      "Search term: Lionsskillet lyric\n",
      "Please open an issue at https://github.com/pytube/pytube/issues and provide this log output.\n",
      "Unexpected renderer encountered.\n",
      "Renderer name: dict_keys(['reelShelfRenderer'])\n",
      "Search term: Lionsskillet lyric\n",
      "Please open an issue at https://github.com/pytube/pytube/issues and provide this log output.\n"
     ]
    },
    {
     "name": "stdout",
     "output_type": "stream",
     "text": [
      "link:  https://youtube.com/watch?v=DzjfNI2XEBs\n",
      "achou o video\n",
      "Skillet - \"Lions\" [Official Lyric Video]\n",
      " ↳ |████████████████████████████████████████████| 100.0%\r"
     ]
    },
    {
     "name": "stderr",
     "output_type": "stream",
     "text": [
      "Unexpected renderer encountered.\n",
      "Renderer name: dict_keys(['showingResultsForRenderer'])\n",
      "Search term: Terrify the Darkskillet lyric\n",
      "Please open an issue at https://github.com/pytube/pytube/issues and provide this log output.\n",
      "Unexpected renderer encountered.\n",
      "Renderer name: dict_keys(['reelShelfRenderer'])\n",
      "Search term: Terrify the Darkskillet lyric\n",
      "Please open an issue at https://github.com/pytube/pytube/issues and provide this log output.\n",
      "Unexpected renderer encountered.\n",
      "Renderer name: dict_keys(['reelShelfRenderer'])\n",
      "Search term: Terrify the Darkskillet lyric\n",
      "Please open an issue at https://github.com/pytube/pytube/issues and provide this log output.\n"
     ]
    },
    {
     "name": "stdout",
     "output_type": "stream",
     "text": [
      "link:  https://youtube.com/watch?v=lWsSkL8SMjo\n",
      "achou o video\n",
      "Skillet - Terrify the Dark (Reimagined) [Official Lyric Video]\n"
     ]
    }
   ],
   "source": [
    "'''baixar = False\n",
    "baixar = input('deseja baixar? s/n')\n",
    "if baixar == 's' :\n",
    "    baixar = True\n",
    "else: baixar = False'''\n",
    "\n",
    "for musica in musicas:\n",
    "    if(musica not in Baixadas):\n",
    "        pesquisa = Search(musica + ' ' + banda + \" lyric\")\n",
    "        videos = pesquisa.results\n",
    "        if(len(videos)>0):\n",
    "            primeirovideo = videos[0]\n",
    "            link = primeirovideo.watch_url\n",
    "            #link = \"\"\n",
    "            print(\"link: \", link)\n",
    "            print(\"achou o video\")\n",
    "            try: \n",
    "                video = yt(link, on_progress_callback=on_progress)\n",
    "                print(video.title)\n",
    "                ys = video.streams.filter(only_audio=True).first()\n",
    "                ys.download(filename= video.title+\".mp3\")\n",
    "                Baixadas.append(musica)\n",
    "            except Exception as e:\n",
    "                print(\"algum erro na hora de baixar ou acessar a musica\")\n",
    "                print(e)\n"
   ]
  },
  {
   "cell_type": "markdown",
   "metadata": {},
   "source": [
    "mostra a lista de musicas para baixar"
   ]
  },
  {
   "cell_type": "code",
   "execution_count": 31,
   "metadata": {},
   "outputs": [
    {
     "name": "stdout",
     "output_type": "stream",
     "text": [
      "['Whispers in the Dark', 'Comatose', 'Hero', 'Monster', 'Awake and Alive', 'Feel Invincible', 'Rise', 'Not Gonna Die', 'Back From the Dead', 'Legendary', 'Victorious', 'Stars', 'Save Me', \"You Ain't Ready\", 'Dead Man Walking', 'Lions', 'Terrify the Dark', 'Victorious']\n"
     ]
    }
   ],
   "source": [
    "print(musicas)"
   ]
  },
  {
   "cell_type": "markdown",
   "metadata": {},
   "source": [
    "mostra a lista de musicas ja baixadas"
   ]
  },
  {
   "cell_type": "code",
   "execution_count": 33,
   "metadata": {},
   "outputs": [
    {
     "name": "stdout",
     "output_type": "stream",
     "text": [
      "Whispers in the Dark\n",
      "Comatose\n",
      "Hero\n",
      "Monster\n",
      "Awake and Alive\n",
      "Feel Invincible\n",
      "Rise\n",
      "Not Gonna Die\n",
      "Back From the Dead\n",
      "Legendary\n",
      "Victorious\n",
      "Stars\n",
      "Save Me\n",
      "You Ain't Ready\n",
      "Dead Man Walking\n",
      "Lions\n",
      "Terrify the Dark\n",
      "17\n"
     ]
    }
   ],
   "source": [
    "\n",
    "for cada in Baixadas:\n",
    "    print(cada)\n",
    "print(len(Baixadas))"
   ]
  },
  {
   "cell_type": "code",
   "execution_count": null,
   "metadata": {},
   "outputs": [],
   "source": []
  }
 ],
 "metadata": {
  "kernelspec": {
   "display_name": "Python 3",
   "language": "python",
   "name": "python3"
  },
  "language_info": {
   "codemirror_mode": {
    "name": "ipython",
    "version": 3
   },
   "file_extension": ".py",
   "mimetype": "text/x-python",
   "name": "python",
   "nbconvert_exporter": "python",
   "pygments_lexer": "ipython3",
   "version": "3.11.4"
  }
 },
 "nbformat": 4,
 "nbformat_minor": 2
}
