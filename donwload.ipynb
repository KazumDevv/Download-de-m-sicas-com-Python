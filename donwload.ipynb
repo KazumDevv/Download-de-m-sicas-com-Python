{
 "cells": [
  {
   "cell_type": "markdown",
   "metadata": {},
   "source": [
    "Downloadable libraries bellow"
   ]
  },
  {
   "cell_type": "code",
   "execution_count": null,
   "metadata": {},
   "outputs": [],
   "source": [
    "pip install pytubefix; pytube; selenium; pyautogui; pyperclip\n"
   ]
  },
  {
   "cell_type": "code",
   "execution_count": 2,
   "metadata": {},
   "outputs": [],
   "source": [
    "from pytube import YouTube, Search\n",
    "from pytubefix import YouTube as yt\n",
    "from pytubefix.cli import on_progress\n",
    "\n",
    "from selenium import webdriver\n",
    "from selenium.webdriver.common.by import By\n",
    "from selenium.webdriver.common.keys import Keys\n",
    "from selenium.webdriver.support.ui import WebDriverWait \n",
    "from selenium.webdriver.support import expected_conditions as EC\n",
    "\n",
    "import pyautogui\n",
    "\n",
    "import pyperclip\n",
    "\n",
    "from time import sleep\n"
   ]
  },
  {
   "cell_type": "markdown",
   "metadata": {},
   "source": [
    "Functions that can be used when needed."
   ]
  },
  {
   "cell_type": "code",
   "execution_count": null,
   "metadata": {},
   "outputs": [],
   "source": [
    "def Find_and_click_image(image_name):\n",
    "    attempt = 0\n",
    "    while(attempt <=5):\n",
    "        try:\n",
    "            position = pyautogui.locateCenterOnScreen(image_name, confidence=0.8)\n",
    "            pyautogui.doubleClick(position.x,position.y)\n",
    "            print(f\"Image {image_name} found and clicked!\")\n",
    "            break\n",
    "        except :\n",
    "            attempt+=1\n",
    "            print(f\"Image {image_name} not found.\\r\", end= '')\n",
    "\n",
    "    "
   ]
  },
  {
   "cell_type": "markdown",
   "metadata": {},
   "source": [
    "Reset the list of songs to download (can be played all the time, but you will lose the ones that have not been downloaded yet)"
   ]
  },
  {
   "cell_type": "code",
   "execution_count": 4,
   "metadata": {},
   "outputs": [],
   "source": [
    "musics = list()"
   ]
  },
  {
   "cell_type": "markdown",
   "metadata": {},
   "source": [
    "Reset downloaded songs (Don't always play). Only if you want to clear the list of downloaded songs"
   ]
  },
  {
   "cell_type": "code",
   "execution_count": 5,
   "metadata": {},
   "outputs": [],
   "source": [
    "downloaded = list()"
   ]
  },
  {
   "cell_type": "code",
   "execution_count": 20,
   "metadata": {},
   "outputs": [],
   "source": [
    "introduction = \"Defina uma lista em Python (não imprima ou comente, apenas defina) com o maior número possível de nomes de músicas novas de \"\n",
    "#introduction = \"Define a Python playlist (don't print or comment, just define) with as many song names as possible from \" #in English if you wish\n",
    "band =  'alan walker' #the name of band to search for\n",
    "message = introduction + band"
   ]
  },
  {
   "cell_type": "markdown",
   "metadata": {},
   "source": [
    "Performs an automated search in Copilot for the songs of a previously specified band"
   ]
  },
  {
   "cell_type": "code",
   "execution_count": null,
   "metadata": {},
   "outputs": [],
   "source": [
    "#create the browser and access the website\n",
    "browser = webdriver.Chrome()\n",
    "\n",
    "browser.get(\"https://copilot.microsoft.com/?showconv=1\")\n",
    "sleep(2)\n",
    "wait = WebDriverWait(browser, 2)\n",
    "browser.refresh()\n",
    "sleep(2)\n",
    "\n",
    "attempt = 0 #for limit the number of attempts\n",
    "while(attempt != 5):\n",
    "    try:\n",
    "        sleep(0.5)\n",
    "        wait = WebDriverWait(browser, 1)\n",
    "        copilot = wait.until( EC.presence_of_element_located((By.ID, \"userInput\")))\n",
    "        break\n",
    "    except:\n",
    "        attempt +=1\n",
    "        \n",
    "        \n",
    "attempt = 0\n",
    "while(attempt != 5):\n",
    "    try:\n",
    "        sleep(0.5)\n",
    "        copilot.send_keys(message)\n",
    "\n",
    "        break\n",
    "    except:\n",
    "        attempt +=1\n",
    "        \n",
    "        \n",
    "attempt = 0\n",
    "while(attempt != 5):\n",
    "    try:\n",
    "        sleep(0.5)\n",
    "        copilot.send_keys(Keys.ENTER)\n",
    "        break\n",
    "    except:\n",
    "        attempt +=1        \n",
    "\n",
    "\n",
    "sleep(5)\n",
    "button_copy = Find_and_click_image('copy.png')\n",
    "sleep(2)\n",
    "button_copy = Find_and_click_image('copy.png')\n",
    "browser.minimize_window()\n",
    "\n",
    "#from the text returned from the search, you can find the songs to donload and create a list (musics) of them  \n",
    "text = pyperclip.paste()    \n",
    "text.replace('\\n', '')\n",
    "text = text.strip()\n",
    "indiceinicio = text.find(\"[\")\n",
    "text = text[indiceinicio+1:]\n",
    "indicefim = text.find(\"]\")\n",
    "text = text[:indicefim]\n",
    "text = text.strip()\n",
    "text = text.replace('\"', '')\n",
    "text = [item.strip() for item in text.split(\",\")]\n",
    "musics += text\n",
    "\n",
    "    "
   ]
  },
  {
   "cell_type": "markdown",
   "metadata": {},
   "source": [
    "Search YouTube for the video of the desired song, take the link and download the audio of the video"
   ]
  },
  {
   "cell_type": "code",
   "execution_count": null,
   "metadata": {},
   "outputs": [],
   "source": [
    "\n",
    "for music in musics:\n",
    "    if(music not in downloaded):\n",
    "        research = Search(music + ' ' + band + \" lyric\")\n",
    "        videos = research.results\n",
    "        if(len(videos)>0):\n",
    "            firstvideofounded = videos[0]\n",
    "            link = firstvideofounded.watch_url\n",
    "            #link = \"\"   #If you want to download a song from a specific link, paste the link here and remove the '#' before 'link'\n",
    "            print(\"link: \", link) #show the link of the found video\n",
    "            try: \n",
    "                video = yt(link, on_progress_callback=on_progress)\n",
    "                print(video.title)\n",
    "                ys = video.streams.filter(only_audio=True).first()\n",
    "                ys.download(filename= video.title+\".mp3\")\n",
    "                downloaded.append(music)\n",
    "                musics.remove(music)\n",
    "            except Exception as e:\n",
    "                print(e)\n",
    "                \n",
    "browser.close()\n"
   ]
  },
  {
   "cell_type": "markdown",
   "metadata": {},
   "source": [
    "show the list of songs for download"
   ]
  },
  {
   "cell_type": "code",
   "execution_count": null,
   "metadata": {},
   "outputs": [],
   "source": [
    "print(musics)"
   ]
  },
  {
   "cell_type": "markdown",
   "metadata": {},
   "source": [
    "show the list of songs already downloaded"
   ]
  },
  {
   "cell_type": "code",
   "execution_count": null,
   "metadata": {},
   "outputs": [],
   "source": [
    "print(downloaded)\n",
    "print(len(downloaded))"
   ]
  }
 ],
 "metadata": {
  "kernelspec": {
   "display_name": "Python 3",
   "language": "python",
   "name": "python3"
  },
  "language_info": {
   "codemirror_mode": {
    "name": "ipython",
    "version": 3
   },
   "file_extension": ".py",
   "mimetype": "text/x-python",
   "name": "python",
   "nbconvert_exporter": "python",
   "pygments_lexer": "ipython3",
   "version": "3.11.4"
  }
 },
 "nbformat": 4,
 "nbformat_minor": 2
}
